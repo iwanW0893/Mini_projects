{
 "cells": [
  {
   "cell_type": "markdown",
   "metadata": {},
   "source": [
    "# What is the True Normal Human Body Temperature? \n",
    "\n",
    "#### Background\n",
    "\n",
    "The mean normal body temperature was held to be 37$^{\\circ}$C or 98.6$^{\\circ}$F for more than 120 years since it was first conceptualized and reported by Carl Wunderlich in a famous 1868 book. But, is this value statistically correct?"
   ]
  },
  {
   "cell_type": "markdown",
   "metadata": {},
   "source": [
    "<h3>Exercises</h3>\n",
    "\n",
    "<p>In this exercise, you will analyze a dataset of human body temperatures and employ the concepts of hypothesis testing, confidence intervals, and statistical significance.</p>\n",
    "\n",
    "<p>Answer the following questions <b>in this notebook below and submit to your Github account</b>.</p> \n",
    "\n",
    "<ol>\n",
    "<li>  Is the distribution of body temperatures normal? \n",
    "    <ul>\n",
    "    <li> Although this is not a requirement for CLT to hold (read CLT carefully), it gives us some peace of mind that the population may also be normally distributed if we assume that this sample is representative of the population.\n",
    "    </ul>\n",
    "<li>  Is the sample size large? Are the observations independent?\n",
    "    <ul>\n",
    "    <li> Remember that this is a condition for the CLT, and hence the statistical tests we are using, to apply.\n",
    "    </ul>\n",
    "<li>  Is the true population mean really 98.6 degrees F?\n",
    "    <ul>\n",
    "    <li> Would you use a one-sample or two-sample test? Why?\n",
    "    <li> In this situation, is it appropriate to use the $t$ or $z$ statistic? \n",
    "    <li> Now try using the other test. How is the result be different? Why?\n",
    "    </ul>\n",
    "<li>  Draw a small sample of size 10 from the data and repeat both tests. \n",
    "    <ul>\n",
    "    <li> Which one is the correct one to use? \n",
    "    <li> What do you notice? What does this tell you about the difference in application of the $t$ and $z$ statistic?\n",
    "    </ul>\n",
    "<li>  At what temperature should we consider someone's temperature to be \"abnormal\"?\n",
    "    <ul>\n",
    "    <li> Start by computing the margin of error and confidence interval.\n",
    "    </ul>\n",
    "<li>  Is there a significant difference between males and females in normal temperature?\n",
    "    <ul>\n",
    "    <li> What test did you use and why?\n",
    "    <li> Write a story with your conclusion in the context of the original problem.\n",
    "    </ul>\n",
    "</ol>\n",
    "\n",
    "You can include written notes in notebook cells using Markdown: \n",
    "   - In the control panel at the top, choose Cell > Cell Type > Markdown\n",
    "   - Markdown syntax: http://nestacms.com/docs/creating-content/markdown-cheat-sheet\n",
    "\n",
    "#### Resources\n",
    "\n",
    "+ Information and data sources: http://www.amstat.org/publications/jse/datasets/normtemp.txt, http://www.amstat.org/publications/jse/jse_data_archive.htm\n",
    "+ Markdown syntax: http://nestacms.com/docs/creating-content/markdown-cheat-sheet\n",
    "\n",
    "****"
   ]
  },
  {
   "cell_type": "code",
   "execution_count": 36,
   "metadata": {},
   "outputs": [],
   "source": [
    "#importing packages and data\n",
    "\n",
    "import pandas as pd\n",
    "import matplotlib.pyplot as plt\n",
    "import seaborn as sns\n",
    "import numpy as np\n",
    "from statsmodels.distributions.empirical_distribution import ECDF\n",
    "import scipy.stats as st\n",
    "df = pd.read_csv(\"human_body_temperature.csv\")"
   ]
  },
  {
   "cell_type": "code",
   "execution_count": 37,
   "metadata": {},
   "outputs": [
    {
     "name": "stdout",
     "output_type": "stream",
     "text": [
      "   temperature gender  heart_rate\n",
      "0         99.3      F        68.0\n",
      "1         98.4      F        81.0\n",
      "2         97.8      M        73.0\n",
      "3         99.2      F        66.0\n",
      "4         98.0      F        73.0\n",
      "5         99.2      M        83.0\n",
      "6         98.0      M        71.0\n",
      "7         98.8      M        78.0\n",
      "8         98.4      F        84.0\n",
      "9         98.6      F        86.0\n"
     ]
    }
   ],
   "source": [
    "#quickly viewing the dataset\n",
    "\n",
    "print(df.head(10))\n",
    "temp = df['temperature']"
   ]
  },
  {
   "cell_type": "code",
   "execution_count": 38,
   "metadata": {},
   "outputs": [
    {
     "data": {
      "image/png": "[encoded data removed]",
      "text/plain": [
       "<matplotlib.figure.Figure at 0x27975723588>"
      ]
     },
     "metadata": {},
     "output_type": "display_data"
    }
   ],
   "source": [
    "#checking the distribution for the data\n",
    "\n",
    "sns.set()\n",
    "plt.hist(temp)\n",
    "plt.show()"
   ]
  },
  {
   "cell_type": "code",
   "execution_count": 39,
   "metadata": {
    "collapsed": true
   },
   "outputs": [],
   "source": [
    "#using the function used in the tutorials to compute the ECDF of the data \n",
    "#and plotting this also to a histograph to view the data.\n",
    "def ecdf(data):\n",
    "    \"\"\"Compute ECDF for a one-dimensional array of measurements.\"\"\"\n",
    "\n",
    "    # Number of data points: n\n",
    "    n = len(data)\n",
    "\n",
    "    # x-data for the ECDF: x\n",
    "    x = np.sort(data)\n",
    "\n",
    "    # y-data for the ECDF: y\n",
    "    y = np.arange(1, n+1) / n\n",
    "\n",
    "    return x, y\n",
    "\n",
    "x_temp, y_temp = ecdf(temp)"
   ]
  },
  {
   "cell_type": "code",
   "execution_count": 40,
   "metadata": {
    "collapsed": true
   },
   "outputs": [],
   "source": [
    "_ = plt.plot(x_temp, y_temp, marker='.', linestyle='none')"
   ]
  },
  {
   "cell_type": "code",
   "execution_count": 41,
   "metadata": {},
   "outputs": [
    {
     "data": {
      "image/png": "[encoded data removed]",
      "text/plain": [
       "<matplotlib.figure.Figure at 0x279773aabe0>"
      ]
     },
     "metadata": {},
     "output_type": "display_data"
    }
   ],
   "source": [
    "plt.margins(0.02)\n",
    "_ = plt.xlabel('temperature (F)')\n",
    "_ = plt.ylabel('ECDF')\n",
    "plt.show()\n",
    "#visualising the ecdf"
   ]
  },
  {
   "cell_type": "code",
   "execution_count": 42,
   "metadata": {},
   "outputs": [
    {
     "data": {
      "image/png": "[encoded data removed]",
      "text/plain": [
       "<matplotlib.figure.Figure at 0x2797741b128>"
      ]
     },
     "metadata": {},
     "output_type": "display_data"
    }
   ],
   "source": [
    "mean = np.mean(temp)\n",
    "std = np.std(temp)\n",
    "samples = np.random.normal(mean, std, size=10000)\n",
    "x_samp, y_samp = ecdf(samples)\n",
    "\n",
    "_ = plt.plot(x_temp, y_temp, marker='.', linestyle='none')\n",
    "_ = plt.plot(x_samp, y_samp, marker='.', linestyle='none')\n",
    "\n",
    "plt.show()\n",
    "\n",
    "\n",
    "#you can see that there is a normal distribution and the samples match the ecdf of the original data."
   ]
  },
  {
   "cell_type": "code",
   "execution_count": 43,
   "metadata": {},
   "outputs": [
    {
     "name": "stdout",
     "output_type": "stream",
     "text": [
      "98.24923076923078\n",
      "98.2529089338\n",
      "0.02154040032644619\n",
      "0.98281457613\n"
     ]
    }
   ],
   "source": [
    "print(mean)\n",
    "sample_mean = np.mean(samples)\n",
    "print(sample_mean)\n",
    "\n",
    "#Is the sample size large? Are the observations independent?\n",
    "#the mean of the samples is roughly equal to that of the original observations, \n",
    "#also, the samples have a normal distribution pattern being approximately equal to the original dataset,\n",
    "#showing that the sample size is sufficiently large. \n",
    "#The observations are independent, they don't affect each other.\n",
    "mean = np.mean(df.temperature)\n",
    "std = np.std(df.temperature)\n",
    "\n",
    "z_score = (98.25 - mean) * len(df.temperature)**(0.5 / std)\n",
    "p_val = 2 * (1 - st.norm.cdf(z_score))\n",
    "print(z_score)\n",
    "print(p_val)"
   ]
  },
  {
   "cell_type": "markdown",
   "metadata": {
    "collapsed": true
   },
   "source": [
    "Is the distribution of body temperatures normal?\n",
    "the distribution of temperatures is normal, you can see a clear pattern emerge in the curve of the histogram, \n",
    "and you can see it in the distribution of the ecdf plot. \n",
    "\n",
    "\n",
    "Is the true population mean really 98.6 degrees F?\n",
    "The population mean is approximately 98.25\n",
    "\n",
    "\n",
    "Would you use a one-sample or two-sample test? Why?\n",
    "One-sample T-tests are used to compare a sample mean with the known population mean. Two-sample T-tests are used to compare samples.\n",
    "The data is sufficently large, we can infer the distribution of the data from the dataset, therefore there is no need to compare samples. I have completed a one-sample test (above) with the mean of the data and samples, and there is negligible difference.\n",
    "\n",
    "\n",
    "In this situation, is it appropriate to use the  tt  or  zz  statistic?\n",
    "\n",
    "we need to compute a single number from the observed data and compare with the null hypothesis.\n",
    "If the standard deviation is known the Z-test is preferred. \n",
    "The Z-test is used to compare sample and population means to know if there’s a significant difference between them. \n",
    "Z-tests always use normal distribution and also ideally applied if the standard deviation is known. \n",
    "Z-tests are often applied in large samples (n > 30). When T-test is used in large samples, the t-test becomes very similar to the Z-test.\n",
    "The standard deviation is known, the normal distribution is available, dataset is sufficiently large to use z statistics, we know what the standard deviation is, and the difference in the mean of the samples and the data itself is very similar.\n",
    "\n",
    "Now try using the other test. How is the result be different? Why?\n",
    "I am having problems utlizing the t statistic, although it shouldn't be very different, as mentioned before at a certain point the z statistic and the t statistic results in largely the same."
   ]
  },
  {
   "cell_type": "code",
   "execution_count": 44,
   "metadata": {},
   "outputs": [
    {
     "name": "stdout",
     "output_type": "stream",
     "text": [
      "p =  0.437\n"
     ]
    }
   ],
   "source": [
    "def draw_perm_reps(data, func, size=1):\n",
    "    \"\"\"Generate multiple permutation replicates.\"\"\"\n",
    "\n",
    "    # Initialize array of replicates: perm_replicates\n",
    "    perm_replicates = np.empty(size)\n",
    "\n",
    "    for i in range(size):\n",
    "        # Generate permutation sample\n",
    "        perm_sample= np.random.permutation(data)\n",
    "\n",
    "        # Compute the test statistic\n",
    "        perm_replicates[i] = func(perm_sample)\n",
    "\n",
    "    return perm_replicates\n",
    "\n",
    "perm_replicates = draw_perm_reps(temp,\n",
    "                                 np.mean, size=10000)\n",
    "   \n",
    "\n",
    "p = np.sum(perm_replicates == np.mean(temp)) / 10000\n",
    "\n",
    "# Print the p-value\n",
    "print('p = ', p)\n",
    "\n",
    "#Clearly this T test hasn't worked. The p value is too high. I am unclear where I have gone wrong.\n",
    "#Above, I have taken samples and extracted the mean of the samples, \n",
    "#then calculated the P value in testing the mean of the replicates against the mean of the data.\n",
    "#then I've calculated against the number of replicates used in the data. "
   ]
  },
  {
   "cell_type": "markdown",
   "metadata": {
    "collapsed": true
   },
   "source": [
    "Draw a small sample of size 10 from the data and repeat both tests.\n",
    "\n",
    "What do you notice? What does this tell you about the difference in application of the  tt  and  zz  statistic?\n"
   ]
  },
  {
   "cell_type": "code",
   "execution_count": 45,
   "metadata": {},
   "outputs": [
    {
     "name": "stdout",
     "output_type": "stream",
     "text": [
      "p =  0.5\n"
     ]
    }
   ],
   "source": [
    "perm_replicates = draw_perm_reps(temp,\n",
    "                                 np.mean, size=10)\n",
    "\n",
    "p = np.sum(perm_replicates == np.mean(temp)) / len(perm_replicates)\n",
    "\n",
    "# Print the p-value\n",
    "print('p = ', p)\n",
    "\n",
    "#I must have made the same mistake again, as this doesn't work either. \n",
    "#I can't infer the difference between applications of a T and Z statistic."
   ]
  },
  {
   "cell_type": "code",
   "execution_count": 46,
   "metadata": {},
   "outputs": [
    {
     "name": "stdout",
     "output_type": "stream",
     "text": [
      "-0.0119623317818 0.990474148221\n"
     ]
    }
   ],
   "source": [
    "import scipy.stats as st\n",
    "t_score, p_val = st.ttest_1samp(df.temperature, 98.25)\n",
    "print(t_score, p_val)"
   ]
  },
  {
   "cell_type": "code",
   "execution_count": 47,
   "metadata": {},
   "outputs": [
    {
     "name": "stdout",
     "output_type": "stream",
     "text": [
      "[ 96.7225  99.4775]\n"
     ]
    }
   ],
   "source": [
    "#At what temperature should we consider someone's temperature to be \"abnormal\"?\n",
    "\n",
    "conf_int = np.percentile(temp, [2.5, 97.5])\n",
    "\n",
    "print(conf_int)\n",
    "\n",
    "#Therefore anything below 96.7225 and above 99.4775 would be abnormal, as they are beyond the confidence interval."
   ]
  },
  {
   "cell_type": "code",
   "execution_count": 48,
   "metadata": {},
   "outputs": [
    {
     "data": {
      "image/png": "[encoded data removed]",
      "text/plain": [
       "<matplotlib.figure.Figure at 0x279768a7ac8>"
      ]
     },
     "metadata": {},
     "output_type": "display_data"
    },
    {
     "name": "stdout",
     "output_type": "stream",
     "text": [
      "98.1046153846154\n",
      "98.1123841582\n"
     ]
    }
   ],
   "source": [
    "df_males = df[df['gender'] == 'M']\n",
    "\n",
    "temp_males = df_males['temperature']\n",
    "\n",
    "df_females = df[df['gender'] == 'F']\n",
    "temp_females = df_females['temperature']\n",
    "\n",
    "mean = np.mean(temp_males)\n",
    "std = np.std(temp_males)\n",
    "samples = np.random.normal(mean, std, size=10000)\n",
    "x_samp, y_samp = ecdf(samples)\n",
    "\n",
    "_ = plt.plot(x_temp, y_temp, marker='.', linestyle='none')\n",
    "_ = plt.plot(x_samp, y_samp, marker='.', linestyle='none')\n",
    "\n",
    "plt.show()\n",
    "\n",
    "print(mean)\n",
    "sample_mean = np.mean(samples)\n",
    "print(sample_mean)"
   ]
  },
  {
   "cell_type": "code",
   "execution_count": 49,
   "metadata": {},
   "outputs": [
    {
     "data": {
      "image/png": "[encoded data removed]",
      "text/plain": [
       "<matplotlib.figure.Figure at 0x2797752bbe0>"
      ]
     },
     "metadata": {},
     "output_type": "display_data"
    },
    {
     "name": "stdout",
     "output_type": "stream",
     "text": [
      "98.39384615384613\n",
      "98.3979956086\n"
     ]
    }
   ],
   "source": [
    "mean = np.mean(temp_females)\n",
    "std = np.std(temp_females)\n",
    "samples = np.random.normal(mean, std, size=10000)\n",
    "x_samp, y_samp = ecdf(samples)\n",
    "\n",
    "_ = plt.plot(x_temp, y_temp, marker='.', linestyle='none')\n",
    "_ = plt.plot(x_samp, y_samp, marker='.', linestyle='none')\n",
    "\n",
    "plt.show()\n",
    "\n",
    "print(mean)\n",
    "sample_mean = np.mean(samples)\n",
    "print(sample_mean)"
   ]
  },
  {
   "cell_type": "code",
   "execution_count": 50,
   "metadata": {},
   "outputs": [
    {
     "name": "stdout",
     "output_type": "stream",
     "text": [
      "difference of means = 0.289230769230727 F\n",
      "95% confidence interval = [ 0.04615385  0.53384615] F\n"
     ]
    }
   ],
   "source": [
    "def bootstrap_replicate_1d(data, func):\n",
    "    return func(np.random.choice(data, size=len(data)))\n",
    "\n",
    "\n",
    "def draw_bs_reps(data, func, size=1):\n",
    "    \"\"\"Draw bootstrap replicates.\"\"\"\n",
    "\n",
    "    bs_replicates = np.empty(size)\n",
    "\n",
    "    for i in range(size):\n",
    "        bs_replicates[i] = bootstrap_replicate_1d(data, func)\n",
    "\n",
    "    return bs_replicates\n",
    "\n",
    "\n",
    "mean_diff = np.mean(temp_females) - np.mean(temp_males)\n",
    "\n",
    "bs_replicates_males = draw_bs_reps(temp_males, np.mean, 10000)\n",
    "bs_replicates_females = draw_bs_reps(temp_females, np.mean, 10000)\n",
    "\n",
    "bs_diff_replicates = bs_replicates_females - bs_replicates_males\n",
    "\n",
    "conf_int = np.percentile(bs_diff_replicates, [2.5, 97.5])\n",
    "\n",
    "print('difference of means =', mean_diff, 'F')\n",
    "print('95% confidence interval =', conf_int, 'F')"
   ]
  },
  {
   "cell_type": "code",
   "execution_count": 51,
   "metadata": {},
   "outputs": [
    {
     "name": "stdout",
     "output_type": "stream",
     "text": [
      "p = 0.0111\n"
     ]
    }
   ],
   "source": [
    "# Compute mean of combined data set: combined_mean\n",
    "combined_mean = np.mean(np.concatenate((temp_males, temp_females)))\n",
    "\n",
    "# Shift the samples\n",
    "temp_males_shifted = temp_males - np.mean(temp_males) + combined_mean\n",
    "temp_females_shifted = temp_females - np.mean(temp_females) + combined_mean\n",
    "\n",
    "# Get bootstrap replicates of shifted data sets\n",
    "bs_replicates_males = draw_bs_reps(temp_males_shifted, np.mean, 10000)\n",
    "bs_replicates_females = draw_bs_reps(temp_females_shifted, np.mean, 10000)\n",
    "\n",
    "# Compute replicates of difference of means: bs_diff_replicates\n",
    "bs_diff_replicates = bs_replicates_females - bs_replicates_males\n",
    "\n",
    "# Compute the p-value: p\n",
    "p = np.sum(bs_diff_replicates >= mean_diff) / len(bs_diff_replicates)\n",
    "\n",
    "# Print p-value\n",
    "print('p =', p)"
   ]
  },
  {
   "cell_type": "markdown",
   "metadata": {
    "collapsed": true
   },
   "source": [
    "Is there a significant difference between males and females in normal temperature?\n",
    "The cell above shows the mean difference between female and male body temperatures, a difference of 0.28923F.\n",
    "The t-test validates that although the difference is not so significant, the hypothesis is true that females have a higher body temperature. \n",
    "Therefore, the difference between female and male temperatures is significant. \n",
    "\n",
    "What test did you use and why?\n",
    "\n",
    "The samples distribution is not following the data distribution very well. The conditions needed for a Z statistic to be completed are not met.\n",
    "Consequently, I wouldn't trust the Z statistic technique, and would prefer to utilize the T statistic to test the hypothesis that females have higher body temperature, after calculating the difference and confidence interval.\n",
    "\n",
    "I feel that a linear regression should be used to find the optimal parameter for the male and female data sets but am not clear how it works.\n",
    "\n",
    "\n",
    "\n"
   ]
  },
  {
   "cell_type": "markdown",
   "metadata": {
    "collapsed": true
   },
   "source": [
    "Write a story with your conclusion in the context of the original problem.\n",
    "\n",
    "I have analyzed a dataset of human body temperatures, with the temperature differences between males and females in mind.\n",
    "Originally I expected that males would have a higher temperature, but in fact it is the women who have higher mean body temperatures.\n",
    "The mean of the females is 98.39F while that of the males is 98.1F."
   ]
  }
 ],
 "metadata": {
  "kernelspec": {
   "display_name": "Python 3",
   "language": "python",
   "name": "python3"
  },
  "language_info": {
   "codemirror_mode": {
    "name": "ipython",
    "version": 3
   },
   "file_extension": ".py",
   "mimetype": "text/x-python",
   "name": "python",
   "nbconvert_exporter": "python",
   "pygments_lexer": "ipython3",
   "version": "3.6.2"
  }
 },
 "nbformat": 4,
 "nbformat_minor": 1
}
